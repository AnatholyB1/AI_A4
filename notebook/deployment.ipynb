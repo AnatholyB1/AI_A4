{
 "cells": [
  {
   "cell_type": "markdown",
   "metadata": {},
   "source": [
    "# PROJET IA for HumanForYou - Mise en Production\n",
    "\n",
    "|Auteur|\n",
    "|---|\n",
    "|G. DUBOYS DE LAVIGERIE|\n",
    "|T. VILETTE|\n",
    "|O. BOUSSARD|\n",
    "|A. BRICON|\n",
    "\n",
    "## Objectifs du Notebook\n",
    "\n",
    "Ce notebook a pour objectif de mettre en production le modèle d'IA développé. Les principales étapes incluent :\n",
    "\n",
    "1. **Intégration du modèle :** Intégration avec d'autres systèmes si nécessaire.\n",
    "2. **Tests de déploiement :** Validation du modèle dans un environnement de production simulé.\n",
    "3. **Préparation finale :** Finalisation du modèle pour une utilisation opérationnelle.\n",
    "\n",
    "## Attendus\n",
    "\n",
    "À la fin de ce notebook, le modèle d'IA sera opérationnel et prêt à être utilisé dans le contexte de HumanForYou.\n",
    "\n",
    "## Prérequis\n",
    "\n",
    "Avant d'exécuter ce notebook, assurez-vous d'avoir exécuté le notebook `model_training_evaluation.ipynb` pour garantir que le modèle est prêt à être déployé."
   ]
  },
  {
   "cell_type": "code",
   "execution_count": null,
   "metadata": {},
   "outputs": [],
   "source": []
  }
 ],
 "metadata": {
  "language_info": {
   "name": "python"
  }
 },
 "nbformat": 4,
 "nbformat_minor": 2
}
