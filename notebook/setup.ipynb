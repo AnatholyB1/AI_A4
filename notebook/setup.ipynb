{
 "cells": [
  {
   "cell_type": "markdown",
   "metadata": {},
   "source": [
    "# PROJET IA for HumanForYou - Configuration Initiale\n",
    "\n",
    "|Auteur|\n",
    "|---|\n",
    "|G. DUBOYS DE LAVIGERIE|\n",
    "|T. VILLETTE|\n",
    "|O. BOUSSARD|\n",
    "|A. BRICON|\n",
    "\n",
    "## Objectifs du Notebook\n",
    "\n",
    "Le présent notebook a pour objectif d'établir la configuration initiale du projet IA for HumanForYou. Les principales étapes incluent :\n",
    "\n",
    "1. **Installation des dépendances :** Configuration de l'environnement de travail avec toutes les bibliothèques nécessaires.\n",
    "2. **Paramètres globaux :** Définition des constantes et des paramètres globaux utilisés tout au long du projet.\n",
    "\n",
    "## Attendus\n",
    "\n",
    "À la fin de ce notebook, la configuration du projet sera complète, prête à être utilisée pour le prétraitement des données, l'entraînement du modèle, et le déploiement ultérieur.\n",
    "\n",
    "## Prérequis\n",
    "\n",
    "Aucun prérequis nécessaire pour ce notebook."
   ]
  },
  {
   "cell_type": "code",
   "execution_count": null,
   "metadata": {},
   "outputs": [],
   "source": [
    "!pip install matplotlib\n",
    "!pip install numpy\n",
    "!pip install pandas\n",
    "!pip install seaborn\n",
    "!pip install scikit-learn"
   ]
  }
 ],
 "metadata": {
  "kernelspec": {
   "display_name": "Python 3",
   "language": "python",
   "name": "python3"
  },
  "language_info": {
   "codemirror_mode": {
    "name": "ipython",
    "version": 3
   },
   "file_extension": ".py",
   "mimetype": "text/x-python",
   "name": "python",
   "nbconvert_exporter": "python",
   "pygments_lexer": "ipython3",
   "version": "3.12.2"
  }
 },
 "nbformat": 4,
 "nbformat_minor": 2
}
