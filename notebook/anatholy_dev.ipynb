{
 "cells": [
  {
   "cell_type": "markdown",
   "metadata": {},
   "source": [
    "# PROJET IA for HumanForYou\n",
    "\n",
    "|Auteur|\n",
    "|---|\n",
    "|G. DUBOYS DE LAVIGERIE|\n",
    "|T. VILETTE|\n",
    "|O. BOUSSARD|\n",
    "|A. BRICON|\n",
    "\n",
    "## Objectifs du Livrable\n",
    "\n",
    "Le présent document constitue le premier livrable du projet IA pour HumanForYou, visant à analyser et traiter les différentes données fournies par l'entreprise dans le but de comprendre les facteurs influençant le taux de rotation des employés. Les objectifs principaux de ce livrable sont les suivants :\n",
    "\n",
    "1. **Compréhension des données :** Explorer et comprendre les différentes sources de données fournies par HumanForYou, y compris les données des ressources humaines, les évaluations des managers, les enquêtes sur la qualité de vie au travail et les horaires de travail.\n",
    "\n",
    "2. **Prétraitement des données :** Nettoyer les données en éliminant les valeurs manquantes, en identifiant et en traitant les éventuelles erreurs ou incohérences, et en préparant les données pour l'analyse et la modélisation.\n",
    "\n",
    "3. **Exploration des données :** Effectuer une analyse exploratoire des données pour identifier les tendances, les relations et les motifs significatifs pouvant influencer le taux de rotation des employés.\n",
    "\n",
    "4. **Visualisation des données :** Utiliser des techniques de visualisation de données pour représenter graphiquement les principales caractéristiques des données et faciliter la compréhension des résultats.\n",
    "\n",
    "5. **Préparation des données pour la modélisation :** Préparer les données en sélectionnant les variables pertinentes, en transformant les variables catégorielles en variables numériques, et en divisant les données en ensembles d'entraînement et de test pour la modélisation.\n",
    "\n",
    "## Attendus\n",
    "\n",
    "À la fin de ce livrable, nous nous attendons à ce que les données fournies par HumanForYou soient prêtes à être analysées et utilisées pour la modélisation. Nous fournirons une analyse détaillée de la qualité des données, des tendances et des relations identifiées, ainsi qu'une documentation complète sur les étapes de prétraitement des données."
   ]
  },
  {
   "cell_type": "markdown",
   "metadata": {},
   "source": [
    "### 1. Préparation de l'environnement\n",
    "\n",
    "Pour faciliter l'importation des bibliothèques nécessaires au bon fonctionnement du code, veuillez exécuter le fichier `setup.ipynb`. Ce fichier s'occupe de configurer l'environnement en important toutes les librairies essentielles. "
   ]
  },
  {
   "cell_type": "code",
   "execution_count": null,
   "metadata": {},
   "outputs": [],
   "source": [
    "# compatibilité python 2 et python 3\n",
    "from __future__ import division, print_function, unicode_literals\n",
    "\n",
    "# imports\n",
    "import numpy as np\n",
    "import os\n",
    "\n",
    "# stabilité du notebook d'une exécution à l'autre\n",
    "np.random.seed(42)\n",
    "\n",
    "# jolies figures directement dans le notebook\n",
    "%matplotlib inline\n",
    "import matplotlib\n",
    "import matplotlib.pyplot as plt\n",
    "plt.rcParams['axes.labelsize'] = 14\n",
    "plt.rcParams['xtick.labelsize'] = 12\n",
    "plt.rcParams['ytick.labelsize'] = 12\n",
    "\n",
    "# où sauver les figures\n",
    "PROJECT_ROOT_DIR = \".\"\n",
    "CHAPTER_ID = \"workflowDS\"\n",
    "IMAGES_PATH = os.path.join(PROJECT_ROOT_DIR, \"images\", CHAPTER_ID) # le dossier doit exister\n",
    "\n",
    "def save_fig(fig_id, tight_layout=True, fig_extension=\"png\", resolution=300):\n",
    "    path = os.path.join(IMAGES_PATH, fig_id + \".\" + fig_extension)\n",
    "    print(\"Saving figure\", fig_id)\n",
    "    if tight_layout:\n",
    "        plt.tight_layout()\n",
    "    plt.savefig(path, format=fig_extension, dpi=resolution)\n",
    "\n",
    "# ignorer les warnings inutiles (voir SciPy issue #5998)\n",
    "import warnings\n",
    "warnings.filterwarnings(action=\"ignore\", message=\"^internal gelsd\")"
   ]
  },
  {
   "cell_type": "markdown",
   "metadata": {},
   "source": [
    "### 2. Import des données\n",
    "\n",
    "Dans cette section, nous automatisons le processus d'importation des données en implémentant une fonction qui effectue les étapes suivantes :\n",
    "1. Téléchargement de l'archive contenant les fichiers.\n",
    "2. Extraction des fichiers de l'archive.\n",
    "\n",
    "Le code ci-dessous réalise le chargement des fichiers suivants :\n",
    "- `employee_survey_data.csv`\n",
    "- `general_data.csv`\n",
    "- `in_time.csv`\n",
    "- `out_time.csv`\n",
    "- `manager_survey_data.csv`\n",
    "\n",
    "De même, on va créer une fonction utilisant [`pandas`](https://pandas.pydata.org/) qui charge les données en mémoire dans un [`Pandas DataFrame`](https://pandas.pydata.org/pandas-docs/stable/generated/pandas.DataFrame.html#pandas.DataFrame)."
   ]
  },
  {
   "cell_type": "code",
   "execution_count": null,
   "metadata": {},
   "outputs": [],
   "source": [
    "import os\n",
    "import zipfile\n",
    "from six.moves import urllib\n",
    "import pandas as pd\n",
    "from sklearn.impute import SimpleImputer\n",
    "\n",
    "pd.set_option('display.max_columns', None)\n",
    "\n",
    "DOWNLOAD_ROOT = \"https://raw.githubusercontent.com/\"\n",
    "REPO_PATH = \"AnatholyB1/AI_A4/main/\"\n",
    "DATA_PATH = os.path.join(\"../datasets\", \"all\")\n",
    "DATA_URL = DOWNLOAD_ROOT + REPO_PATH + \"data.zip\"\n",
    "\n",
    "\n",
    "def fetch_data(data_url=DATA_URL, data_path=DATA_PATH):\n",
    "    if not os.path.isdir(data_path):\n",
    "        os.makedirs(data_path)\n",
    "    zip_path = os.path.join(data_path, \"data.zip\")\n",
    "    urllib.request.urlretrieve(data_url, zip_path)\n",
    "    with zipfile.ZipFile(zip_path, 'r') as zip_ref:\n",
    "        zip_ref.extractall(data_path)\n",
    "\n",
    "fetch_data()\n",
    "\n",
    "def load_employee_data(housing_path=DATA_PATH):\n",
    "    csv_path = os.path.join(housing_path + \"\\employe\", \"employee_survey_data.csv\")\n",
    "    return pd.read_csv(csv_path)\n",
    "\n",
    "def load_general_data(housing_path=DATA_PATH):\n",
    "    csv_path = os.path.join(housing_path + \"\\general\", \"general_data.csv\")\n",
    "    return pd.read_csv(csv_path)\n",
    "\n",
    "def load_in_time_data(housing_path=DATA_PATH):\n",
    "    csv_path = os.path.join(housing_path + \"\\in_out_time\", \"in_time.csv\")\n",
    "    return pd.read_csv(csv_path)\n",
    "\n",
    "def load_out_time_data(housing_path=DATA_PATH):\n",
    "    csv_path = os.path.join(housing_path + \"\\in_out_time\", \"out_time.csv\")\n",
    "    return pd.read_csv(csv_path)\n",
    "\n",
    "def load_manager_data(housing_path=DATA_PATH):\n",
    "    csv_path = os.path.join(housing_path + \"\\manager\", \"manager_survey_data.csv\")\n",
    "    return pd.read_csv(csv_path)\n",
    "\n",
    "employee = load_employee_data()\n",
    "general = load_general_data()\n",
    "in_time = load_in_time_data()\n",
    "out_time = load_out_time_data()\n",
    "manager = load_manager_data()"
   ]
  },
  {
   "cell_type": "markdown",
   "metadata": {},
   "source": [
    "### 3. Analyse des différentes données\n",
    "\n",
    "#### 3.1. employee"
   ]
  },
  {
   "cell_type": "code",
   "execution_count": null,
   "metadata": {},
   "outputs": [],
   "source": [
    "import pandas as pd\n",
    "from sklearn.pipeline import Pipeline\n",
    "from sklearn.impute import SimpleImputer\n",
    "from sklearn.compose import ColumnTransformer\n",
    "\n",
    "# Créez un pipeline\n",
    "numeric_transformer = Pipeline(steps=[\n",
    "    ('imputer', SimpleImputer(strategy='median')),\n",
    "])\n",
    "\n",
    "\n",
    "# Appliquez le pipeline à l'ensemble du DataFrame\n",
    "employee_transformed = numeric_transformer.fit_transform(employee)\n",
    "\n",
    "# Transformez le résultat du pipeline en DataFrame\n",
    "employee_df = pd.DataFrame(employee_transformed, columns = employee.columns)\n",
    "employee_df.info()"
   ]
  },
  {
   "cell_type": "markdown",
   "metadata": {},
   "source": [
    "#### 3.2 General\n",
    "\n",
    "| **Variable**           | **Type de données** | **Nombre de valeurs Manquantes** | **Nature de la variable** | **Nombre de catégories uniques** |\n",
    "|------------------------|---------------------|----------------------------------|---------------------------|----------------------------------|\n",
    "| **Age**                | Quantitative        | 0                                | Ordinal                   | 35                               |\n",
    "| **Attrition**          | Qualitative         | 0                                | Nominal (Booléen)         | 2                                |\n",
    "| **BusinessTravel**     | Qualitative         | 0                                | Ordinal                   | 3                                |\n",
    "| **Department**         | Qualitative         | 0                                | Nominal                   | 3                                |\n",
    "| **DistanceFromHome**   | Quantitative        | 0                                | Ordinal                   | 16                               |\n",
    "| **Education**          | Quantitative        | 0                                | Ordinal                   | 5                                |\n",
    "| **EducationField**     | Qualitative         | 0                                | Nominal                   | 6                                |\n",
    "| **EmployeeCount**      | Quantitative        | 0                                | Ordinal                   | 1                                |\n",
    "| **EmployeeID**         | Quantitative        | 0                                | Ordinal                   | 4410                             |\n",
    "| **Gender**             | Qualitative         | 0                                | Nominal (Booléen)         | 2                                |\n",
    "| **JobLevel**           | Quantitative        | 0                                | Ordinal                   | 5                                |\n",
    "| **JobRole**            | Qualitative         | 0                                | Nominal                   | 9                                |\n",
    "| **MaritalStatus**      | Qualitative         | 0                                | Nominal                   | 3                                |\n",
    "| **MonthlyIncome**      | Quantitative        | 0                                | Ordinal                   | 1349                             |\n",
    "| **NumCompaniesWorked** | Quantitative        | 19                               | Ordinal                   | 10                               |\n",
    "| **Over18**             | Qualitative         | 0                                | Nominal                   | 1                                |\n",
    "| **PercentSalaryHike**  | Quantitative        | 0                                | Ordinal                   | 14                               |\n",
    "| **StandardHours**      | Quantitative        | 0                                | Ordinal                   | 1                                |\n",
    "| **StockOptionLevel**   | Quantitative        | 0                                | Ordinal                   | 4                                |\n",
    "| **TotalWorkingYears**  | Quantitative        | 9                                | Ordinal                   | 29                               |\n",
    "| **TrainingTimesLastYear** | Quantitative      | 0                                | Ordinal                   | 7                                |\n",
    "| **YearsAtCompany**     | Quantitative        | 0                                | Ordinal                   | 29                               |\n",
    "| **YearsSinceLastPromotion** | Quantitative    | 0                                | Ordinal                   | 15                               |\n",
    "| **YearsWithCurrManager** | Quantitative      | 0                                | Ordinal                   | 16                               |"
   ]
  },
  {
   "cell_type": "code",
   "execution_count": null,
   "metadata": {},
   "outputs": [],
   "source": [
    "# Supprimer useless colonnes\n",
    "general_dr = general.drop(['Over18', 'EmployeeCount', 'StandardHours'], axis=1)\n",
    "\n",
    "# Pipeline\n",
    "from sklearn.preprocessing import OrdinalEncoder, OneHotEncoder\n",
    "from sklearn.impute import SimpleImputer\n",
    "from sklearn.compose import ColumnTransformer\n",
    "from sklearn.pipeline import Pipeline\n",
    "\n",
    "general_num = general_dr.select_dtypes(include=[np.number]) \n",
    "num_attribs = list(general_num)\n",
    "\n",
    "general_cat_ordinal = ['BusinessTravel']\n",
    "general_cat_nominal = ['Attrition','Department','EducationField','Gender','JobRole','MaritalStatus']\n",
    "\n",
    "num_pipeline = Pipeline([\n",
    "    ('imputer', SimpleImputer(strategy=\"median\")),\n",
    "])\n",
    "\n",
    "full_pipeline = ColumnTransformer([\n",
    "    (\"num\", num_pipeline, num_attribs),\n",
    "    (\"cat_nom\", OneHotEncoder(), general_cat_nominal),\n",
    "    (\"cat_ord\", OrdinalEncoder(), general_cat_ordinal),\n",
    "])\n",
    "\n",
    "# Appliquer le pipeline au DataFrame initial\n",
    "general_tr = full_pipeline.fit_transform(general_dr)\n",
    "\n",
    "# Créer un DataFrame à partir du résultat\n",
    "general_prepared = pd.DataFrame(general_tr, columns=full_pipeline.get_feature_names_out())\n",
    "general_prepared.drop(['cat_nom__Attrition_No'], axis=1)"
   ]
  },
  {
   "cell_type": "markdown",
   "metadata": {},
   "source": [
    "#### 3.3 In_time"
   ]
  },
  {
   "cell_type": "code",
   "execution_count": null,
   "metadata": {},
   "outputs": [],
   "source": [
    "\n",
    "def convert_all_to_datetime(df):\n",
    "    year_dict = {}\n",
    "    month_dict = {}\n",
    "    day_dict = {}\n",
    "\n",
    "    for column_name in df.columns:\n",
    "        try:\n",
    "            df[column_name] = pd.to_datetime(df[column_name])\n",
    "            year_dict[column_name + '-year'] = df[column_name].dt.year\n",
    "            month_dict[column_name + '-month'] = df[column_name].dt.month\n",
    "            day_dict[column_name + '-day'] = df[column_name].dt.day\n",
    "        except ValueError:\n",
    "            # Skip columns that cannot be converted to datetime\n",
    "            pass\n",
    "\n",
    "    year_df = pd.DataFrame(year_dict)\n",
    "    month_df = pd.DataFrame(month_dict)\n",
    "    day_df = pd.DataFrame(day_dict)\n",
    "\n",
    "    df = pd.concat([df, year_df, month_df, day_df], axis=1)\n",
    "    return df\n",
    "\n",
    "in_time = convert_all_to_datetime(in_time)\n",
    "out_time = convert_all_to_datetime(out_time)"
   ]
  },
  {
   "cell_type": "markdown",
   "metadata": {},
   "source": [
    "suprimmer les colones qui ne sont pas des dates"
   ]
  },
  {
   "cell_type": "code",
   "execution_count": null,
   "metadata": {},
   "outputs": [],
   "source": [
    "from sklearn.base import BaseEstimator, TransformerMixin\n",
    "from sklearn.impute import SimpleImputer\n",
    "from sklearn.preprocessing import StandardScaler\n",
    "from sklearn.pipeline import Pipeline\n",
    "\n",
    "def convert_all_to_datetime(X,  Y):    \n",
    "    cols_to_drop = X.filter(regex='-day$').columns\n",
    "    X = X.drop(cols_to_drop, axis=1)\n",
    "    cols_to_drop = X.filter(regex='-month$').columns\n",
    "    X = X.drop(cols_to_drop, axis=1)\n",
    "    cols_to_drop = X.filter(regex='-year$').columns\n",
    "    X = X.drop(cols_to_drop, axis=1)\n",
    "\n",
    "\n",
    "    first_column = X.columns[0]\n",
    "    X = X.drop([first_column], axis=1)\n",
    "    # Supprimer les colonnes où toutes les valeurs sont NaT\n",
    "    X = X.dropna(axis=1, how='all')\n",
    "\n",
    "    cols_to_drop = Y.filter(regex='-day$').columns\n",
    "    Y = Y.drop(cols_to_drop, axis=1)\n",
    "    cols_to_drop = Y.filter(regex='-month$').columns\n",
    "    Y = Y.drop(cols_to_drop, axis=1)\n",
    "    cols_to_drop = Y.filter(regex='-year$').columns\n",
    "    Y = Y.drop(cols_to_drop, axis=1)\n",
    "\n",
    "\n",
    "    first_column = Y.columns[0]\n",
    "    Y = Y.drop([first_column], axis=1)\n",
    "\n",
    "    # Supprimer les colonnes où toutes les valeurs sont NaT\n",
    "    Y = Y.dropna(axis=1, how='all')\n",
    "\n",
    "\n",
    "    # Calculer la médiane du temps horaire pour chaque personne\n",
    "    median_time = (Y - X).median()\n",
    "\n",
    "    for column in X.columns:\n",
    "        # Trouver où les valeurs sont manquantes\n",
    "        in_time_nan = X[column].isna()\n",
    "        out_time_nan = Y[column].isna()\n",
    "\n",
    "        # Si 'in_time' est manquant, soustraire la médiane du temps horaire à 'out_time'\n",
    "        X.loc[in_time_nan, column] = X.loc[in_time_nan, column] - median_time[column]\n",
    "\n",
    "        # Si 'out_time' est manquant, ajouter la médiane du temps horaire à 'in_time'\n",
    "        Y.loc[out_time_nan, column] = Y.loc[out_time_nan, column] + median_time[column]\n",
    "    \n",
    "    return  Y - X\n",
    "\n",
    "\n",
    "\n",
    "class PreTransformer(BaseEstimator, TransformerMixin):\n",
    "    def __init__(self):\n",
    "        self.imputer = SimpleImputer(strategy=\"median\")\n",
    "\n",
    "    def fit(self, X, y=None):\n",
    "        self.imputer.fit(X)\n",
    "        return self\n",
    "\n",
    "    def transform(self, X, y=None):\n",
    "        for col in X.columns:\n",
    "            X[col] = X[col].apply(lambda x: x.total_seconds() / 3600 if pd.notnull(x) else np.nan)    \n",
    "        stats = pd.DataFrame()\n",
    "        stats['mean'] = pd.Series(X.mean(axis=1))\n",
    "        stats['median'] = pd.Series(X.median(axis=1))\n",
    "        stats['min'] = pd.Series(X.min(axis=1))\n",
    "        stats['max'] = pd.Series(X.max(axis=1))\n",
    "        return stats, stats.columns\n",
    "        # Convertir les timedelta en une quantité numérique représentant le nombre d'heures\n",
    "\n",
    "\n",
    "# Définir le pipeline\n",
    "num_pipeline = Pipeline([\n",
    "    ('pre_transformer', PreTransformer()),\n",
    "])\n",
    "\n",
    "# Appliquer le pipeline\n",
    "hourly_time_prepared, stats_col = num_pipeline.fit_transform(convert_all_to_datetime(in_time, out_time))\n",
    "\n",
    "hourly_time_prepared = pd.DataFrame(hourly_time_prepared, columns= stats_col )\n",
    "\n",
    "#Ajouter la colonne 'EmployeeID' pour pouvoir joindre les DataFrames\n",
    "hourly_time_prepared['EmployeeID'] = employee_df['EmployeeID']\n"
   ]
  },
  {
   "cell_type": "markdown",
   "metadata": {},
   "source": [
    "#### Jointure"
   ]
  },
  {
   "cell_type": "code",
   "execution_count": null,
   "metadata": {},
   "outputs": [],
   "source": [
    "# Utiliser la fonction merge pour faire la première jointure avec general\n",
    "result = pd.merge(employee_df, manager, on='EmployeeID')\n",
    "\n",
    "# Utiliser la fonction merge pour faire la deuxième jointure avec general_prepared\n",
    "result = pd.merge(result, general_prepared, left_on='EmployeeID', right_on='num__EmployeeID')\n",
    "\n",
    "# Utiliser la fonction merge pour faire la troisieme jointure avec hourly_time_prepared\n",
    "result = pd.merge(result, hourly_time_prepared, on='EmployeeID')\n",
    "\n",
    "result = result.drop(['EmployeeID'], axis=1)\n",
    "result = result.drop(['num__EmployeeID'], axis=1)\n",
    "# Créez un pipeline\n",
    "result_transformer = Pipeline(steps=[\n",
    "    ('scaler', StandardScaler())\n",
    "])\n",
    "\n",
    "result_array = result_transformer.fit_transform(result)\n",
    "result = pd.DataFrame(result_array, columns = result.columns)\n",
    "\n",
    "\n",
    "from sklearn.model_selection import train_test_split\n",
    "\n",
    "# Supposons que vous voulez prédire 'cat_nom__Attrition_Yes'\n",
    "y = result['cat_nom__Attrition_Yes']\n",
    "X = result.drop(['cat_nom__Attrition_Yes', 'cat_nom__Attrition_No'], axis=1)\n",
    "\n",
    "# Diviser les données en un ensemble d'entraînement et un ensemble de test\n",
    "X_train, X_test, y_train, y_test = train_test_split(X, y, test_size=0.2, random_state=42)\n",
    "\n",
    "train_df = pd.DataFrame(pd.concat([X_train, y_train], axis = 1), columns=result.columns)\n",
    "\n",
    "\n",
    "# Calculer la matrice de corrélation\n",
    "corr_matrix = train_df.corr()\n",
    "# Filtrer les corrélations\n",
    "filtered_corr_matrix = corr_matrix.where((corr_matrix >= 0.4) | (corr_matrix <= -0.4))\n",
    "\n",
    "# Trier la colonne 'cat_nom__Attrition_Yes' par valeur absolue\n",
    "sorted_corr = corr_matrix['cat_nom__Attrition_Yes'].apply(abs).sort_values(ascending=False)\n",
    "\n",
    "# Afficher les éléments les plus corrélés avec 'cat_nom__Attrition_Yes'\n",
    "sorted_corr"
   ]
  },
  {
   "cell_type": "code",
   "execution_count": null,
   "metadata": {},
   "outputs": [],
   "source": [
    "from sklearn.tree import DecisionTreeRegressor\n",
    "from sklearn.metrics import mean_squared_error\n",
    "from sklearn.metrics import mean_absolute_error\n",
    "from sklearn.model_selection import cross_val_score\n",
    "\n",
    "\n",
    "# Create a DecisionTreeRegressor\n",
    "tree_reg = DecisionTreeRegressor(random_state=42)\n",
    "\n",
    "# Train the model\n",
    "def train_model(trainer):\n",
    "    trainer.fit(X_train, y_train)\n",
    "\n",
    "    trainer_predictions = trainer.predict(X_test)\n",
    "    trainer_mse = mean_squared_error(y_test, trainer_predictions)\n",
    "    trainer_rmse = np.sqrt(trainer_mse)\n",
    "\n",
    "    print(\"mse:\", trainer_mse)\n",
    "    print(\"rmse:\", trainer_rmse)\n",
    "\n",
    "    scores = cross_val_score(trainer, X_test, y_test,\n",
    "                         scoring=\"neg_mean_squared_error\", cv=10)\n",
    "    trainer_rmse_scores = np.sqrt(-scores)\n",
    "    \n",
    "    print(\"Scores:\", trainer_rmse_scores)\n",
    "    print(\"Mean:\", trainer_rmse_scores.mean())\n",
    "    print(\"Standard deviation:\", trainer_rmse_scores.std())\n",
    "\n",
    "\n",
    "train_model(tree_reg)    \n",
    "\n",
    "\n",
    "\n",
    "\n",
    "\n",
    "\n"
   ]
  },
  {
   "cell_type": "code",
   "execution_count": null,
   "metadata": {},
   "outputs": [],
   "source": [
    "from sklearn.linear_model import LinearRegression\n",
    "\n",
    "lin_reg = LinearRegression(fit_intercept=False)\n",
    "train_model(lin_reg)"
   ]
  },
  {
   "cell_type": "code",
   "execution_count": null,
   "metadata": {},
   "outputs": [],
   "source": [
    "from sklearn.ensemble import RandomForestRegressor\n",
    "\n",
    "forest_reg = RandomForestRegressor(max_depth=15, max_features='log2', n_estimators=26,\n",
    "                      random_state=42)\n",
    "train_model(forest_reg)"
   ]
  },
  {
   "cell_type": "code",
   "execution_count": null,
   "metadata": {},
   "outputs": [],
   "source": [
    "from sklearn.svm import SVR\n",
    "\n",
    "svr_reg = SVR(C=9.318742350231167, gamma=0.09849250205191949)\n",
    "train_model(svr_reg)"
   ]
  },
  {
   "cell_type": "code",
   "execution_count": null,
   "metadata": {},
   "outputs": [],
   "source": [
    "import numpy as np\n",
    "\n",
    "\n",
    "shuffle_index = np.random.permutation(len(X_train))\n",
    "X_train, y_train = X_train.iloc[shuffle_index], y_train.iloc[shuffle_index]\n",
    "\n"
   ]
  },
  {
   "cell_type": "code",
   "execution_count": null,
   "metadata": {},
   "outputs": [],
   "source": [
    "y_train_yes = (y_train > 0)\n",
    "y_test_yes = (y_test > 0 )\n",
    "\n",
    "from sklearn.linear_model import SGDClassifier\n",
    "\n",
    "sgd_clf = SGDClassifier(max_iter=1000, random_state=42)\n",
    "sgd_clf.fit(X_train, y_train_yes)\n",
    "\n",
    "sgd_clf.predict(X_test)\n",
    "\n",
    "\n",
    "# cross-val a la mano\n",
    "from sklearn.model_selection import StratifiedKFold\n",
    "from sklearn.base import clone\n",
    "\n",
    "skfolds = StratifiedKFold(n_splits=3, random_state=42, shuffle=True)\n",
    "\n",
    "X_train_np = X_train.values\n",
    "y_train_yes_np = y_train_yes.values\n",
    "\n",
    "for train_index, test_index in skfolds.split(X_train_np, y_train_yes_np):\n",
    "    clone_clf = clone(sgd_clf)\n",
    "    X_train_folds = X_train_np[train_index]\n",
    "    y_train_folds = y_train_yes_np[train_index]\n",
    "    X_test_fold = X_train_np[test_index]\n",
    "    y_test_fold = y_train_yes_np[test_index]\n",
    "\n",
    "    clone_clf.fit(X_train_folds, y_train_folds)\n",
    "    y_pred = clone_clf.predict(X_test_fold)\n",
    "    n_correct = sum(y_pred == y_test_fold)\n",
    "    print(n_correct / len(y_pred))\n",
    "# ⨯-val avec scikit-learn\n",
    "from sklearn.model_selection import cross_val_score\n",
    "cross_val_score(sgd_clf, X_train, y_train_yes,cv=3 ,scoring=\"accuracy\" )    \n"
   ]
  },
  {
   "cell_type": "code",
   "execution_count": null,
   "metadata": {},
   "outputs": [],
   "source": [
    "from sklearn.base import BaseEstimator\n",
    "\n",
    "class Never5Classifier(BaseEstimator):\n",
    "    def fit(self, X, y=None):\n",
    "        pass\n",
    "    def predict(self, X):\n",
    "        return np.zeros((len(X), 1), dtype=bool)"
   ]
  },
  {
   "cell_type": "code",
   "execution_count": null,
   "metadata": {},
   "outputs": [],
   "source": [
    "never_5_clf = Never5Classifier()\n",
    "predictions = never_5_clf.predict(X_train)"
   ]
  },
  {
   "cell_type": "code",
   "execution_count": null,
   "metadata": {},
   "outputs": [],
   "source": [
    "from sklearn.model_selection import cross_val_predict\n",
    "y_train_pred = cross_val_predict(sgd_clf, X_train, y_train_yes, cv=3)"
   ]
  },
  {
   "cell_type": "code",
   "execution_count": null,
   "metadata": {},
   "outputs": [],
   "source": [
    "from sklearn.metrics import confusion_matrix\n",
    "conf_matrix =  confusion_matrix(y_train_yes, y_train_pred)\n",
    "\n",
    "from sklearn.metrics import precision_score, recall_score\n",
    "precision_score(y_train_yes, y_train_pred)\n"
   ]
  },
  {
   "cell_type": "code",
   "execution_count": null,
   "metadata": {},
   "outputs": [],
   "source": [
    "recall_score(y_train_yes, y_train_pred)"
   ]
  },
  {
   "cell_type": "code",
   "execution_count": null,
   "metadata": {},
   "outputs": [],
   "source": [
    "from sklearn.metrics import f1_score\n",
    "f1_score(y_train_yes, y_train_pred)"
   ]
  },
  {
   "cell_type": "code",
   "execution_count": null,
   "metadata": {},
   "outputs": [],
   "source": [
    "y_scores = sgd_clf.decision_function(X_train)"
   ]
  },
  {
   "cell_type": "code",
   "execution_count": null,
   "metadata": {},
   "outputs": [],
   "source": [
    "y_scores = cross_val_predict(sgd_clf, X_train, y_train_yes, cv=3,\n",
    "                             method=\"decision_function\")\n",
    "\n",
    "from sklearn.metrics import precision_recall_curve\n",
    "precisions, recalls, thresholds = precision_recall_curve(y_train_yes, y_scores)\n",
    "\n",
    "\n",
    "def plot_precision_recall_vs_threshold(precisions, recalls, thresholds):\n",
    "    plt.plot(thresholds, precisions[:-1], \"b-\", label=\"Precision\", linewidth=2)\n",
    "    plt.plot(thresholds, recalls[:-1], \"g-\", label=\"Recall\", linewidth=2)\n",
    "    plt.xlabel(\"Threshold\", fontsize=16)\n",
    "    plt.legend(loc=\"upper left\", fontsize=16)\n",
    "    plt.ylim([0, 1])\n",
    "\n",
    "plt.figure(figsize=(8, 4))\n",
    "plot_precision_recall_vs_threshold(precisions, recalls, thresholds)\n",
    "plt.xlim([-700000, 700000])\n",
    "plt.show()"
   ]
  },
  {
   "cell_type": "code",
   "execution_count": null,
   "metadata": {},
   "outputs": [],
   "source": [
    "def plot_precision_vs_recall(precisions, recalls):\n",
    "    plt.plot(recalls, precisions, \"k-\", linewidth=2)\n",
    "    plt.xlabel(\"Recall\", fontsize=16)\n",
    "    plt.ylabel(\"Precision\", fontsize=16)\n",
    "    plt.axis([0, 1, 0, 1])\n",
    "\n",
    "plt.figure(figsize=(8, 6))\n",
    "plot_precision_vs_recall(precisions, recalls)\n",
    "plt.show()"
   ]
  },
  {
   "cell_type": "code",
   "execution_count": null,
   "metadata": {},
   "outputs": [],
   "source": [
    "y_train_pred_90 = (y_scores > 70000)\n",
    "\n",
    "precision_score(y_train_yes, y_train_pred_90), recall_score(y_train_yes, y_train_pred_90)"
   ]
  },
  {
   "cell_type": "code",
   "execution_count": null,
   "metadata": {},
   "outputs": [],
   "source": [
    "from sklearn.metrics import roc_curve\n",
    "\n",
    "fpr, tpr, thresholds = roc_curve(y_train_yes, y_scores)\n",
    "def plot_roc_curve(fpr, tpr, label=None):\n",
    "    plt.plot(fpr, tpr, linewidth=2, label=label)\n",
    "    plt.plot([0, 1], [0, 1], 'k--')\n",
    "    plt.axis([0, 1, 0, 1])\n",
    "    plt.xlabel('False Positive Rate', fontsize=16)\n",
    "    plt.ylabel('True Positive Rate', fontsize=16)\n",
    "\n",
    "plt.figure(figsize=(8, 6))\n",
    "plot_roc_curve(fpr, tpr)\n",
    "plt.show()"
   ]
  },
  {
   "cell_type": "code",
   "execution_count": null,
   "metadata": {},
   "outputs": [],
   "source": [
    "from sklearn.metrics import roc_auc_score\n",
    "\n",
    "# Supposons que y_true sont vos vraies étiquettes binaires, et y_scores sont les scores de décision de votre modèle\n",
    "auc_roc = roc_auc_score(y_train_yes, y_scores)\n",
    "\n",
    "print(\"AUC-ROC: \", auc_roc)"
   ]
  },
  {
   "cell_type": "code",
   "execution_count": null,
   "metadata": {},
   "outputs": [],
   "source": [
    "from sklearn.ensemble import RandomForestClassifier\n",
    "from sklearn.model_selection import cross_val_predict\n",
    "\n",
    "forest_clf = RandomForestClassifier(random_state=42, n_estimators=10)\n",
    "y_probas_forest = cross_val_predict(forest_clf, X_train, y_train_yes, cv=3,\n",
    "                                    method=\"predict_proba\")"
   ]
  },
  {
   "cell_type": "code",
   "execution_count": null,
   "metadata": {},
   "outputs": [],
   "source": [
    "from sklearn.ensemble import RandomForestClassifier, VotingClassifier\n",
    "from sklearn.linear_model import LogisticRegression\n",
    "\n",
    "# Créer une instance de RandomForestClassifier\n",
    "clf = RandomForestClassifier()\n",
    "\n",
    "# Créer une instance de LogisticRegression\n",
    "logisticRegr = LogisticRegression()\n",
    "\n",
    "# Créer une instance de VotingClassifier\n",
    "voting_clf = VotingClassifier(\n",
    "    estimators=[('lr', logisticRegr), ('rf', clf)],\n",
    "    voting='soft')\n",
    "\n",
    "y_probas_forest = cross_val_predict(voting_clf, X_train, y_train_yes, cv=5,\n",
    "                                    method=\"predict_proba\")\n",
    "                             "
   ]
  },
  {
   "cell_type": "code",
   "execution_count": null,
   "metadata": {},
   "outputs": [],
   "source": [
    "y_scores_forest = y_probas_forest[:, 1]\n",
    "fpr_forest, tpr_forest, thresholds_forest = roc_curve(y_train_yes,y_scores_forest)\n",
    "plt.figure(figsize=(8, 6))\n",
    "plt.plot(fpr, tpr, \"b:\", linewidth=2, label=\"SGD\")\n",
    "plot_roc_curve(fpr_forest, tpr_forest, \"Random Forest\")\n",
    "plt.legend(loc=\"lower right\", fontsize=16)\n",
    "plt.show()"
   ]
  },
  {
   "cell_type": "code",
   "execution_count": null,
   "metadata": {},
   "outputs": [],
   "source": [
    "auc = roc_auc_score(y_train_yes, y_scores_forest)\n",
    "print(\"AUC: \", auc)\n",
    "\n"
   ]
  },
  {
   "cell_type": "code",
   "execution_count": null,
   "metadata": {},
   "outputs": [],
   "source": [
    "y_pred_forest = (y_scores_forest > 0.5)\n",
    "precision_score(y_train_yes, y_pred_forest)"
   ]
  },
  {
   "cell_type": "code",
   "execution_count": null,
   "metadata": {},
   "outputs": [],
   "source": [
    "recall_score(y_train_yes, y_pred_forest)"
   ]
  },
  {
   "cell_type": "code",
   "execution_count": null,
   "metadata": {},
   "outputs": [],
   "source": [
    "sgd_clf.fit(X_train, y_train_yes) \n",
    "sgd_clf.predict(X_test)"
   ]
  },
  {
   "cell_type": "code",
   "execution_count": null,
   "metadata": {},
   "outputs": [],
   "source": [
    "some_digit_scores = sgd_clf.decision_function(X_test)\n",
    "class_max_index = np.argmax(some_digit_scores)"
   ]
  },
  {
   "cell_type": "code",
   "execution_count": null,
   "metadata": {},
   "outputs": [],
   "source": [
    "from sklearn.multiclass import OneVsOneClassifier\n",
    "ovo_clf = OneVsOneClassifier(SGDClassifier(max_iter=5, random_state=42))\n",
    "ovo_clf.fit(X_train, y_train_yes)\n",
    "ovo_clf.predict(X_test)"
   ]
  },
  {
   "cell_type": "code",
   "execution_count": null,
   "metadata": {},
   "outputs": [],
   "source": [
    "forest_clf.fit(X_train, y_train_yes)\n",
    "forest_clf.predict(X_test)"
   ]
  },
  {
   "cell_type": "code",
   "execution_count": null,
   "metadata": {},
   "outputs": [],
   "source": [
    "forest_clf.predict_proba(X_test)"
   ]
  },
  {
   "cell_type": "code",
   "execution_count": null,
   "metadata": {},
   "outputs": [],
   "source": [
    "cross_val_score(sgd_clf, X_train, y_train_yes, cv=3, scoring=\"accuracy\")"
   ]
  },
  {
   "cell_type": "code",
   "execution_count": null,
   "metadata": {},
   "outputs": [],
   "source": [
    "from sklearn.preprocessing import StandardScaler\n",
    "scaler = StandardScaler()\n",
    "X_train_scaled = scaler.fit_transform(X_train.astype(np.float64))\n",
    "cross_val_score(sgd_clf, X_train_scaled, y_train_yes, cv=3, scoring=\"accuracy\")"
   ]
  },
  {
   "cell_type": "code",
   "execution_count": null,
   "metadata": {},
   "outputs": [],
   "source": [
    "y_train_pred = cross_val_predict(sgd_clf, X_train_scaled, y_train_yes, cv=3)\n",
    "conf_mx = confusion_matrix(y_train_yes, y_train_pred)\n",
    "plt.matshow(conf_mx, cmap=plt.cm.gray)\n",
    "plt.show()\n",
    "\n",
    "def plot_confusion_matrix(matrix):\n",
    "    fig = plt.figure(figsize=(8,8))\n",
    "    ax = fig.add_subplot(111)\n",
    "    cax = ax.matshow(matrix)\n",
    "    fig.colorbar(cax)\n",
    "\n",
    "plot_confusion_matrix(conf_mx)"
   ]
  },
  {
   "cell_type": "code",
   "execution_count": null,
   "metadata": {},
   "outputs": [],
   "source": [
    "row_sums = conf_mx.sum(axis=1, keepdims=True)\n",
    "norm_conf_mx = conf_mx / row_sums\n",
    "\n",
    "np.fill_diagonal(norm_conf_mx, 0)\n",
    "plt.matshow(norm_conf_mx, cmap=plt.cm.gray)\n",
    "plt.show()\n",
    "\n",
    "plot_confusion_matrix(norm_conf_mx)"
   ]
  }
 ],
 "metadata": {
  "kernelspec": {
   "display_name": "Python 3",
   "language": "python",
   "name": "python3"
  },
  "language_info": {
   "codemirror_mode": {
    "name": "ipython",
    "version": 3
   },
   "file_extension": ".py",
   "mimetype": "text/x-python",
   "name": "python",
   "nbconvert_exporter": "python",
   "pygments_lexer": "ipython3",
   "version": "3.11.3"
  }
 },
 "nbformat": 4,
 "nbformat_minor": 2
}
